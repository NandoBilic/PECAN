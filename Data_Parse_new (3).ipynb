{
 "cells": [
  {
   "cell_type": "code",
   "execution_count": 1,
   "id": "a1ebb73c-63f7-4f3c-a510-d9424c610e8e",
   "metadata": {},
   "outputs": [],
   "source": [
    "import sys\n",
    "import numpy as np\n",
    "import pandas as pd\n",
    "import numpy as np\n",
    "import os\n",
    "import json\n",
    "from rdkit import Chem\n",
    "from rdkit.Chem import AllChem\n"
   ]
  },
  {
   "cell_type": "code",
   "execution_count": 2,
   "id": "ff914a4a-cff4-4190-909a-32045b3b46db",
   "metadata": {},
   "outputs": [],
   "source": [
    "NCI60_CANONICAL = [\n",
    "    # Leukemia (6)\n",
    "    \"CCRF-CEM\", \"HL-60(TB)\", \"K-562\", \"MOLT-4\", \"RPMI-8226\", \"SR\",\n",
    "    # CNS (6)\n",
    "    \"SF-268\", \"SF-295\", \"SF-539\", \"SNB-19\", \"SNB-75\", \"U251\",\n",
    "    # Colon (7)\n",
    "    \"COLO 205\", \"HCC-2998\", \"HCT-116\", \"HCT-15\", \"HT29\", \"KM12\", \"SW-620\",\n",
    "    # Non‑small‑cell lung (9)\n",
    "    \"A549/ATCC\", \"EKVX\", \"HOP-62\", \"HOP-92\",\n",
    "    \"NCI-H226\", \"NCI-H23\", \"NCI-H322M\", \"NCI-H460\", \"NCI-H522\",\n",
    "    # Melanoma (9)\n",
    "    \"LOX IMVI\", \"MALME-3M\", \"M14\", \"MDA-MB-435\",\n",
    "    \"SK-MEL-2\", \"SK-MEL-28\", \"SK-MEL-5\", \"UACC-257\", \"UACC-62\",\n",
    "    # Ovarian (7)\n",
    "    \"IGROV1\", \"OVCAR-3\", \"OVCAR-4\", \"OVCAR-5\", \"OVCAR-8\", \"NCI/ADR-RES\", \"SK-OV-3\",\n",
    "    # Renal (8)\n",
    "    \"786-0\", \"A498\", \"ACHN\", \"CAKI-1\", \"RXF 393\", \"SN12C\", \"TK-10\", \"UO-31\",\n",
    "    # Breast (6)\n",
    "    \"BT-549\", \"HS 578T\", \"MCF7\", \"T-47D\", \"MDA-MB-231/ATCC\", \"MDA-MB-468\",\n",
    "    # Prostate (2)\n",
    "    \"PC-3\", \"DU-145\",\n",
    "]\n",
    "assert len(NCI60_CANONICAL) == 60\n"
   ]
  },
  {
   "cell_type": "code",
   "execution_count": 3,
   "id": "3fc536d6-b964-4c5e-a642-78fbb01ad609",
   "metadata": {},
   "outputs": [
    {
     "name": "stdout",
     "output_type": "stream",
     "text": [
      "Resulting dataframe shape: (58329, 62)\n"
     ]
    }
   ],
   "source": [
    "# --- 1. Load and pivot GI50 data ------------------------------------------\n",
    "import pandas as pd\n",
    "\n",
    "gi50_raw = pd.read_csv(\"GI50.csv\")\n",
    "\n",
    "# Pivot to wide table (one column per cell line)\n",
    "gi50_df = (\n",
    "    gi50_raw\n",
    "    .pivot_table(index=\"NSC\", columns=\"CELL_NAME\", values=\"AVERAGE\", aggfunc=\"mean\")\n",
    "    .reset_index()\n",
    ")\n",
    "gi50_df.columns.name = None\n",
    "\n",
    "# Keep only the 60 canonical columns (plus NSC)\n",
    "keep_cols = [\"NSC\"] + NCI60_CANONICAL\n",
    "gi50_df = gi50_df.loc[:, gi50_df.columns.isin(keep_cols)]\n",
    "\n",
    "# --- 2. Load SMILES data ---------------------------------------------------\n",
    "smiles_df = pd.read_csv(\"nsc_smiles.csv\")          # must contain 'NSC', 'SMILES'\n",
    "\n",
    "# --- 3. Merge on NSC to get full dataset -----------------------------------\n",
    "merged_df = pd.merge(gi50_df, smiles_df, on=\"NSC\")\n",
    "merged_df[\"SMILES\"] = merged_df[\"SMILES\"].astype(str)\n",
    "\n",
    "# Save the order once so loaders / models can reuse it\n",
    "import json, pathlib\n",
    "pathlib.Path(\"cell_line_order.json\").write_text(\n",
    "    json.dumps(NCI60_CANONICAL, indent=2)\n",
    ")\n",
    "print(f\"Resulting dataframe shape: {merged_df.shape}\")   \n",
    "\n"
   ]
  },
  {
   "cell_type": "code",
   "execution_count": 4,
   "id": "7a15c6ad-28f8-4933-aa0a-87d381967ad6",
   "metadata": {},
   "outputs": [
    {
     "name": "stdout",
     "output_type": "stream",
     "text": [
      "Parsed 58,329 usable compounds.\n"
     ]
    }
   ],
   "source": [
    "# --- Build dictionary: NSC → {SMILES, label_vector} ------------------------\n",
    "from collections import Counter\n",
    "import pandas as pd\n",
    "\n",
    "def categorize_gi50(val):\n",
    "    if pd.isna(val):\n",
    "        return None\n",
    "    p = -val                         # convert −log10 → +log10\n",
    "    if p < 4.1:   return 0\n",
    "    elif p < 5.0: return 1\n",
    "    elif p < 6.0: return 2\n",
    "    elif p < 7.0: return 3\n",
    "    elif p < 8.0: return 4\n",
    "    else:         return 5\n",
    "\n",
    "mol_dict      = {}                                          # master store\n",
    "gi50_columns  = [c for c in merged_df.columns if c not in (\"NSC\", \"SMILES\")]\n",
    "\n",
    "for _, row in merged_df.iterrows():\n",
    "    NSC    = row[\"NSC\"]\n",
    "    SMILES = row[\"SMILES\"]\n",
    "\n",
    "    potencies = {cl: categorize_gi50(row[cl]) for cl in gi50_columns}\n",
    "    cats      = [v for v in potencies.values() if v is not None]\n",
    "    if not cats:                                    # skip compounds w/ no data\n",
    "        continue\n",
    "\n",
    "    mol_dict[NSC] = {\n",
    "        \"smiles\"       : SMILES,                                   # keep\n",
    "        \"label_vector\" : [potencies[cl] if potencies[cl] is not None else -1\n",
    "                          for cl in gi50_columns]                  # keep\n",
    "        # NOTE: NSC, mol_concentration, potency *not* stored\n",
    "    }\n",
    "\n",
    "print(f\"Parsed {len(mol_dict):,} usable compounds.\")\n",
    "\n"
   ]
  },
  {
   "cell_type": "code",
   "execution_count": 5,
   "id": "c9a8dfaa-b6fb-4138-8985-bf1aad72c8d3",
   "metadata": {},
   "outputs": [
    {
     "name": "stdout",
     "output_type": "stream",
     "text": [
      "train  46,663\n",
      "val    5,832\n",
      "test   5,834\n"
     ]
    }
   ],
   "source": [
    "import numpy as np\n",
    "\n",
    "np.random.seed(42)\n",
    "NSC_list = list(mol_dict.keys())\n",
    "np.random.shuffle(NSC_list)\n",
    "\n",
    "n       = len(NSC_list)\n",
    "n_train = int(0.8 * n)\n",
    "n_val   = int(0.1 * n)\n",
    "\n",
    "splits = {\n",
    "    \"train\": NSC_list[:n_train],\n",
    "    \"val\"  : NSC_list[n_train:n_train + n_val],\n",
    "    \"test\" : NSC_list[n_train + n_val:]\n",
    "}\n",
    "\n",
    "for s, idxs in splits.items():\n",
    "    print(f\"{s:<5}  {len(idxs):,}\")\n"
   ]
  },
  {
   "cell_type": "code",
   "execution_count": 6,
   "id": "a7a97197-465e-48f6-88dc-e03e89c29c50",
   "metadata": {},
   "outputs": [
    {
     "name": "stdout",
     "output_type": "stream",
     "text": [
      "Finished writing:  train.jsonl.gz (1.8 MB), val.jsonl.gz (0.2 MB), test.jsonl.gz (0.2 MB)\n"
     ]
    }
   ],
   "source": [
    "import gzip, json, os, shutil\n",
    "\n",
    "# Remove any old per‑compound directories to free space\n",
    "for folder in [\"train\", \"val\", \"test\"]:\n",
    "    if os.path.isdir(folder):\n",
    "        shutil.rmtree(folder)\n",
    "\n",
    "# Open three writers once\n",
    "writers = {\n",
    "    \"train\": gzip.open(\"train.jsonl.gz\", \"wt\"),\n",
    "    \"val\"  : gzip.open(\"val.jsonl.gz\",   \"wt\"),\n",
    "    \"test\" : gzip.open(\"test.jsonl.gz\",  \"wt\"),\n",
    "}\n",
    "\n",
    "\n",
    "for split_name, NSCs in splits.items():\n",
    "    fh = writers[split_name]\n",
    "    for NSC in NSCs:\n",
    "        fh.write(json.dumps(mol_dict[NSC]) + \"\\n\")\n",
    "\n",
    "\n",
    "for fh in writers.values():\n",
    "    fh.close()\n",
    "\n",
    "print(\"Finished writing: \",\n",
    "      \", \".join(f\"{p} ({os.path.getsize(p)/1e6:.1f} MB)\"\n",
    "                for p in [\"train.jsonl.gz\",\"val.jsonl.gz\",\"test.jsonl.gz\"]))\n",
    "\n"
   ]
  },
  {
   "cell_type": "code",
   "execution_count": 1,
   "id": "525056f9-fdfa-4af8-bf91-b33a05998bf5",
   "metadata": {},
   "outputs": [
    {
     "name": "stdout",
     "output_type": "stream",
     "text": [
      "--- record 0 ---\n",
      "{\n",
      "  \"smiles\": \"CCC(C)C1=C(O)[N+]2([O-])Oc3ccc(cc3OC2(C(C)CC)C(=O)N1O)C4=C(O)C(=C(C(=O)C4=O)c5ccc(O)cc5)O\",\n",
      "  \"label_vector\": [\n",
      "    1,\n",
      "    2,\n",
      "    2,\n",
      "    1,\n",
      "    2,\n",
      "    2,\n",
      "    1,\n",
      "    1,\n",
      "    1,\n",
      "    1,\n",
      "    2,\n",
      "    2,\n",
      "    2,\n",
      "    1,\n",
      "    2,\n",
      "    2,\n",
      "    2,\n",
      "    1,\n",
      "    1,\n",
      "    2,\n",
      "    1,\n",
      "    2,\n",
      "    2,\n",
      "    1,\n",
      "    2,\n",
      "    1,\n",
      "    2,\n",
      "    -1,\n",
      "    1,\n",
      "    2,\n",
      "    1,\n",
      "    1,\n",
      "    2,\n",
      "    1,\n",
      "    2,\n",
      "    2,\n",
      "    0,\n",
      "    0,\n",
      "    2,\n",
      "    2,\n",
      "    2,\n",
      "    2,\n",
      "    2,\n",
      "    1,\n",
      "    1,\n",
      "    -1,\n",
      "    0,\n",
      "    2,\n",
      "    -1,\n",
      "    -1,\n",
      "    2,\n",
      "    0,\n",
      "    2,\n",
      "    1,\n",
      "    -1,\n",
      "    2,\n",
      "    2,\n",
      "    1,\n",
      "    2,\n",
      "    1\n",
      "  ]\n",
      "}\n",
      "\n"
     ]
    }
   ],
   "source": [
    "#EXAMPLES\n",
    "#Modify n_preview to get more/less molecules\n",
    "\n",
    "import gzip, json\n",
    "\n",
    "n_preview = 1                 \n",
    "with gzip.open(\"train.jsonl.gz\", \"rt\") as f:\n",
    "    for i, line in enumerate(f):\n",
    "        if i >= n_preview:\n",
    "            break\n",
    "        record = json.loads(line)\n",
    "        print(f\"--- record {i} ---\")\n",
    "        print(json.dumps(record, indent=2))\n",
    "        print()\n"
   ]
  },
  {
   "cell_type": "code",
   "execution_count": null,
   "id": "edcecc29-8cee-4826-8eb8-c4cc540fa262",
   "metadata": {},
   "outputs": [],
   "source": []
  }
 ],
 "metadata": {
  "kernelspec": {
   "display_name": "Python 3 (ipykernel)",
   "language": "python",
   "name": "python3"
  },
  "language_info": {
   "codemirror_mode": {
    "name": "ipython",
    "version": 3
   },
   "file_extension": ".py",
   "mimetype": "text/x-python",
   "name": "python",
   "nbconvert_exporter": "python",
   "pygments_lexer": "ipython3",
   "version": "3.9.18"
  }
 },
 "nbformat": 4,
 "nbformat_minor": 5
}
