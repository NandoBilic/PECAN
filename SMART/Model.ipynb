{
 "cells": [
  {
   "cell_type": "code",
   "execution_count": 7,
   "id": "c77865e8-798a-4017-820e-eb4d3b82b35b",
   "metadata": {},
   "outputs": [],
   "source": [
    "import gzip, json, torch\n",
    "from torch.utils.data import Dataset\n",
    "from rdkit import Chem\n",
    "from rdkit.Chem import AllChem\n",
    "\n",
    "GEN0 = AllChem.GetMorganGenerator(radius=0, fpSize=2048)\n",
    "GEN1 = AllChem.GetMorganGenerator(radius=1, fpSize=2048)\n",
    "GEN2 = AllChem.GetMorganGenerator(radius=2, fpSize=2048)\n",
    "\n",
    "def fp6144_from_smiles(smiles):\n",
    "    mol = Chem.MolFromSmiles(smiles)\n",
    "    if mol is None:\n",
    "        return None\n",
    "    fp0 = torch.tensor(list(GEN0.GetFingerprint(mol)), dtype=torch.float32)\n",
    "    fp1 = torch.tensor(list(GEN1.GetFingerprint(mol)), dtype=torch.float32)\n",
    "    fp2 = torch.tensor(list(GEN2.GetFingerprint(mol)), dtype=torch.float32)\n",
    "    return torch.cat([fp0, fp1, fp2])        # shape (6144,)\n",
    "\n",
    "class JSONLPotencyDataset(Dataset):\n",
    "    \"\"\"\n",
    "    Loads the new *.jsonl.gz split files created in the parsing notebook.\n",
    "    Each line contains {\"smiles\": ..., \"label_vector\": [...] }.\n",
    "    \"\"\"\n",
    "    def __init__(self, path_to_jsonl_gz):\n",
    "        with gzip.open(path_to_jsonl_gz, \"rt\") as f:\n",
    "            self.records = [(rec[\"smiles\"], rec[\"label_vector\"])\n",
    "                            for rec in (json.loads(l) for l in f)]\n",
    "\n",
    "    def __len__(self):\n",
    "        return len(self.records)\n",
    "\n",
    "    def __getitem__(self, idx):\n",
    "        smiles, label_vec = self.records[idx]\n",
    "        fp = fp6144_from_smiles(smiles)\n",
    "\n",
    "        # fall‑through if RDKit fails on this SMILES\n",
    "        while fp is None:\n",
    "            idx = (idx + 1) % len(self.records)\n",
    "            smiles, label_vec = self.records[idx]\n",
    "            fp = fp6144_from_smiles(smiles)\n",
    "\n",
    "        labels = torch.tensor(label_vec, dtype=torch.long)   # (60,)\n",
    "        return fp, labels\n",
    "\n",
    "\n"
   ]
  },
  {
   "cell_type": "code",
   "execution_count": 8,
   "id": "6e81319e-6dad-420c-8602-4a24bdc794e2",
   "metadata": {},
   "outputs": [],
   "source": [
    "import torch.nn as nn\n",
    "import torch.nn.functional as F\n",
    "\n",
    "class MultiLineMLP(nn.Module):\n",
    "    def __init__(self,\n",
    "                 input_dim=6144,\n",
    "                 hidden_dim=768,     # ↑ from 256\n",
    "                 num_lines=60,\n",
    "                 num_classes=6):\n",
    "        super().__init__()\n",
    "        self.bn_in = nn.BatchNorm1d(input_dim)           # NEW\n",
    "\n",
    "        self.shared = nn.Sequential(\n",
    "            nn.Linear(input_dim, hidden_dim),\n",
    "            nn.ReLU(),\n",
    "            nn.Dropout(0.3),\n",
    "            nn.Linear(hidden_dim, hidden_dim),\n",
    "            nn.ReLU(),\n",
    "            nn.Dropout(0.6),\n",
    "        )\n",
    "\n",
    "        # one big classifier → (batch, 60, 6)\n",
    "        self.classifier = nn.Linear(hidden_dim, num_lines * num_classes)\n",
    "\n",
    "    def forward(self, x):                                # x: (batch, 6144)\n",
    "        x = self.bn_in(x)\n",
    "        feat = self.shared(x)                            # (batch, 768)\n",
    "        logits = self.classifier(feat)                   # (batch, 360)\n",
    "        return logits.view(-1, 60, 6)                    # (batch, 60, 6)\n",
    "\n",
    "\n"
   ]
  },
  {
   "cell_type": "code",
   "execution_count": 9,
   "id": "57220f02-e099-43f6-a2bd-517221a38451",
   "metadata": {},
   "outputs": [],
   "source": [
    "import torch, json, numpy as np\n",
    "from torch.utils.data import DataLoader\n",
    "import torch.optim as optim\n",
    "from rdkit import RDLogger\n",
    "\n",
    "# Silence RDKit chatter\n",
    "RDLogger.DisableLog(\"rdApp.*\")\n",
    "\n",
    "train_dataset = JSONLPotencyDataset(\"train.jsonl.gz\")\n",
    "val_dataset   = JSONLPotencyDataset(\"val.jsonl.gz\")\n",
    "\n",
    "train_loader  = DataLoader(train_dataset, batch_size=64,\n",
    "                           shuffle=True, num_workers=4, pin_memory=True)\n",
    "val_loader    = DataLoader(val_dataset,   batch_size=64,\n",
    "                           num_workers=4, pin_memory=True)\n",
    "\n",
    "device = torch.device(\"cuda\" if torch.cuda.is_available() else \"cpu\")\n",
    "\n",
    "model = MultiLineMLP().to(device)   # the new BN + shared‑head version\n"
   ]
  },
  {
   "cell_type": "code",
   "execution_count": 10,
   "id": "a29e3631-e562-41a6-9d53-c5f04735ebe8",
   "metadata": {},
   "outputs": [
    {
     "name": "stderr",
     "output_type": "stream",
     "text": [
      "                                                                                "
     ]
    },
    {
     "name": "stdout",
     "output_type": "stream",
     "text": [
      "Epoch 01/40 | Train Loss: 1058.4 | Val Loss: 153.6 | Avg Val Acc: 0.4358 | LR: 5.0e-04\n",
      "  ✓ saved new best (0.4358)\n"
     ]
    },
    {
     "name": "stderr",
     "output_type": "stream",
     "text": [
      "                                                                                "
     ]
    },
    {
     "name": "stdout",
     "output_type": "stream",
     "text": [
      "Epoch 02/40 | Train Loss: 861.9 | Val Loss: 178.1 | Avg Val Acc: 0.4139 | LR: 5.0e-04\n"
     ]
    },
    {
     "name": "stderr",
     "output_type": "stream",
     "text": [
      "                                                                                "
     ]
    },
    {
     "name": "stdout",
     "output_type": "stream",
     "text": [
      "Epoch 03/40 | Train Loss: 768.5 | Val Loss: 171.1 | Avg Val Acc: 0.4650 | LR: 5.0e-04\n",
      "  ✓ saved new best (0.4650)\n"
     ]
    },
    {
     "name": "stderr",
     "output_type": "stream",
     "text": [
      "                                                                                "
     ]
    },
    {
     "name": "stdout",
     "output_type": "stream",
     "text": [
      "Epoch 04/40 | Train Loss: 704.2 | Val Loss: 207.4 | Avg Val Acc: 0.4658 | LR: 2.5e-04\n",
      "  ✓ saved new best (0.4658)\n"
     ]
    },
    {
     "name": "stderr",
     "output_type": "stream",
     "text": [
      "                                                                                "
     ]
    },
    {
     "name": "stdout",
     "output_type": "stream",
     "text": [
      "Epoch 05/40 | Train Loss: 623.3 | Val Loss: 202.4 | Avg Val Acc: 0.4676 | LR: 2.5e-04\n",
      "  ✓ saved new best (0.4676)\n"
     ]
    },
    {
     "name": "stderr",
     "output_type": "stream",
     "text": [
      "                                                                                "
     ]
    },
    {
     "name": "stdout",
     "output_type": "stream",
     "text": [
      "Epoch 06/40 | Train Loss: 584.8 | Val Loss: 206.7 | Avg Val Acc: 0.4653 | LR: 2.5e-04\n"
     ]
    },
    {
     "name": "stderr",
     "output_type": "stream",
     "text": [
      "                                                                                "
     ]
    },
    {
     "name": "stdout",
     "output_type": "stream",
     "text": [
      "Epoch 07/40 | Train Loss: 561.0 | Val Loss: 214.3 | Avg Val Acc: 0.4779 | LR: 1.3e-04\n",
      "  ✓ saved new best (0.4779)\n"
     ]
    },
    {
     "name": "stderr",
     "output_type": "stream",
     "text": [
      "                                                                                "
     ]
    },
    {
     "name": "stdout",
     "output_type": "stream",
     "text": [
      "Epoch 08/40 | Train Loss: 522.4 | Val Loss: 220.3 | Avg Val Acc: 0.4859 | LR: 1.3e-04\n",
      "  ✓ saved new best (0.4859)\n"
     ]
    },
    {
     "name": "stderr",
     "output_type": "stream",
     "text": [
      "                                                                                "
     ]
    },
    {
     "name": "stdout",
     "output_type": "stream",
     "text": [
      "Epoch 09/40 | Train Loss: 506.1 | Val Loss: 220.8 | Avg Val Acc: 0.4825 | LR: 1.3e-04\n"
     ]
    },
    {
     "name": "stderr",
     "output_type": "stream",
     "text": [
      "                                                                                "
     ]
    },
    {
     "name": "stdout",
     "output_type": "stream",
     "text": [
      "Epoch 10/40 | Train Loss: 497.7 | Val Loss: 221.1 | Avg Val Acc: 0.4891 | LR: 6.3e-05\n",
      "  ✓ saved new best (0.4891)\n"
     ]
    },
    {
     "name": "stderr",
     "output_type": "stream",
     "text": [
      "                                                                                "
     ]
    },
    {
     "name": "stdout",
     "output_type": "stream",
     "text": [
      "Epoch 11/40 | Train Loss: 476.5 | Val Loss: 222.9 | Avg Val Acc: 0.4908 | LR: 6.3e-05\n",
      "  ✓ saved new best (0.4908)\n"
     ]
    },
    {
     "name": "stderr",
     "output_type": "stream",
     "text": [
      "                                                                                "
     ]
    },
    {
     "name": "stdout",
     "output_type": "stream",
     "text": [
      "Epoch 12/40 | Train Loss: 469.1 | Val Loss: 223.5 | Avg Val Acc: 0.4885 | LR: 6.3e-05\n"
     ]
    },
    {
     "name": "stderr",
     "output_type": "stream",
     "text": [
      "                                                                                "
     ]
    },
    {
     "name": "stdout",
     "output_type": "stream",
     "text": [
      "Epoch 13/40 | Train Loss: 463.8 | Val Loss: 227.9 | Avg Val Acc: 0.4893 | LR: 3.1e-05\n"
     ]
    },
    {
     "name": "stderr",
     "output_type": "stream",
     "text": [
      "                                                                                "
     ]
    },
    {
     "name": "stdout",
     "output_type": "stream",
     "text": [
      "Epoch 14/40 | Train Loss: 457.9 | Val Loss: 226.5 | Avg Val Acc: 0.4904 | LR: 3.1e-05\n"
     ]
    },
    {
     "name": "stderr",
     "output_type": "stream",
     "text": [
      "                                                                                "
     ]
    },
    {
     "name": "stdout",
     "output_type": "stream",
     "text": [
      "Epoch 15/40 | Train Loss: 452.1 | Val Loss: 235.3 | Avg Val Acc: 0.4858 | LR: 3.1e-05\n"
     ]
    },
    {
     "name": "stderr",
     "output_type": "stream",
     "text": [
      "                                                                                "
     ]
    },
    {
     "name": "stdout",
     "output_type": "stream",
     "text": [
      "Epoch 16/40 | Train Loss: 450.3 | Val Loss: 224.0 | Avg Val Acc: 0.4924 | LR: 1.6e-05\n",
      "  ✓ saved new best (0.4924)\n"
     ]
    },
    {
     "name": "stderr",
     "output_type": "stream",
     "text": [
      "                                                                                "
     ]
    },
    {
     "name": "stdout",
     "output_type": "stream",
     "text": [
      "Epoch 17/40 | Train Loss: 446.7 | Val Loss: 218.2 | Avg Val Acc: 0.4928 | LR: 1.6e-05\n",
      "  ✓ saved new best (0.4928)\n"
     ]
    },
    {
     "name": "stderr",
     "output_type": "stream",
     "text": [
      "                                                                                "
     ]
    },
    {
     "name": "stdout",
     "output_type": "stream",
     "text": [
      "Epoch 18/40 | Train Loss: 444.1 | Val Loss: 226.8 | Avg Val Acc: 0.5004 | LR: 1.6e-05\n",
      "  ✓ saved new best (0.5004)\n"
     ]
    },
    {
     "name": "stderr",
     "output_type": "stream",
     "text": [
      "                                                                                "
     ]
    },
    {
     "name": "stdout",
     "output_type": "stream",
     "text": [
      "Epoch 19/40 | Train Loss: 443.1 | Val Loss: 227.5 | Avg Val Acc: 0.4936 | LR: 7.8e-06\n"
     ]
    },
    {
     "name": "stderr",
     "output_type": "stream",
     "text": [
      "                                                                                "
     ]
    },
    {
     "name": "stdout",
     "output_type": "stream",
     "text": [
      "Epoch 20/40 | Train Loss: 440.3 | Val Loss: 237.7 | Avg Val Acc: 0.4945 | LR: 7.8e-06\n"
     ]
    },
    {
     "name": "stderr",
     "output_type": "stream",
     "text": [
      "                                                                                "
     ]
    },
    {
     "name": "stdout",
     "output_type": "stream",
     "text": [
      "Epoch 21/40 | Train Loss: 440.9 | Val Loss: 233.6 | Avg Val Acc: 0.4957 | LR: 7.8e-06\n"
     ]
    },
    {
     "name": "stderr",
     "output_type": "stream",
     "text": [
      "                                                                                "
     ]
    },
    {
     "name": "stdout",
     "output_type": "stream",
     "text": [
      "Epoch 22/40 | Train Loss: 439.4 | Val Loss: 231.9 | Avg Val Acc: 0.4986 | LR: 3.9e-06\n"
     ]
    },
    {
     "name": "stderr",
     "output_type": "stream",
     "text": [
      "                                                                                "
     ]
    },
    {
     "name": "stdout",
     "output_type": "stream",
     "text": [
      "Epoch 23/40 | Train Loss: 436.0 | Val Loss: 229.3 | Avg Val Acc: 0.4946 | LR: 3.9e-06\n"
     ]
    },
    {
     "name": "stderr",
     "output_type": "stream",
     "text": [
      "                                                                                "
     ]
    },
    {
     "name": "stdout",
     "output_type": "stream",
     "text": [
      "Epoch 24/40 | Train Loss: 437.8 | Val Loss: 231.6 | Avg Val Acc: 0.4950 | LR: 3.9e-06\n"
     ]
    },
    {
     "name": "stderr",
     "output_type": "stream",
     "text": [
      "                                                                                "
     ]
    },
    {
     "name": "stdout",
     "output_type": "stream",
     "text": [
      "Epoch 25/40 | Train Loss: 438.3 | Val Loss: 236.5 | Avg Val Acc: 0.4987 | LR: 2.0e-06\n"
     ]
    },
    {
     "name": "stderr",
     "output_type": "stream",
     "text": [
      "                                                                                "
     ]
    },
    {
     "name": "stdout",
     "output_type": "stream",
     "text": [
      "Epoch 26/40 | Train Loss: 436.2 | Val Loss: 227.5 | Avg Val Acc: 0.4862 | LR: 2.0e-06\n"
     ]
    },
    {
     "name": "stderr",
     "output_type": "stream",
     "text": [
      "                                                                                "
     ]
    },
    {
     "name": "stdout",
     "output_type": "stream",
     "text": [
      "Epoch 27/40 | Train Loss: 436.0 | Val Loss: 222.5 | Avg Val Acc: 0.4970 | LR: 2.0e-06\n"
     ]
    },
    {
     "name": "stderr",
     "output_type": "stream",
     "text": [
      "                                                                                "
     ]
    },
    {
     "name": "stdout",
     "output_type": "stream",
     "text": [
      "Epoch 28/40 | Train Loss: 436.9 | Val Loss: 222.2 | Avg Val Acc: 0.4934 | LR: 9.8e-07\n"
     ]
    },
    {
     "name": "stderr",
     "output_type": "stream",
     "text": [
      "                                                                                "
     ]
    },
    {
     "name": "stdout",
     "output_type": "stream",
     "text": [
      "Epoch 29/40 | Train Loss: 436.7 | Val Loss: 226.5 | Avg Val Acc: 0.4927 | LR: 9.8e-07\n"
     ]
    },
    {
     "name": "stderr",
     "output_type": "stream",
     "text": [
      "                                                                                "
     ]
    },
    {
     "name": "stdout",
     "output_type": "stream",
     "text": [
      "Epoch 30/40 | Train Loss: 436.9 | Val Loss: 221.3 | Avg Val Acc: 0.4962 | LR: 9.8e-07\n"
     ]
    },
    {
     "name": "stderr",
     "output_type": "stream",
     "text": [
      "                                                                                "
     ]
    },
    {
     "name": "stdout",
     "output_type": "stream",
     "text": [
      "Epoch 31/40 | Train Loss: 435.1 | Val Loss: 221.8 | Avg Val Acc: 0.5009 | LR: 4.9e-07\n",
      "  ✓ saved new best (0.5009)\n"
     ]
    },
    {
     "name": "stderr",
     "output_type": "stream",
     "text": [
      "                                                                                "
     ]
    },
    {
     "name": "stdout",
     "output_type": "stream",
     "text": [
      "Epoch 32/40 | Train Loss: 437.5 | Val Loss: 226.9 | Avg Val Acc: 0.4997 | LR: 4.9e-07\n"
     ]
    },
    {
     "name": "stderr",
     "output_type": "stream",
     "text": [
      "                                                                                "
     ]
    },
    {
     "name": "stdout",
     "output_type": "stream",
     "text": [
      "Epoch 33/40 | Train Loss: 436.0 | Val Loss: 237.5 | Avg Val Acc: 0.4902 | LR: 4.9e-07\n"
     ]
    },
    {
     "name": "stderr",
     "output_type": "stream",
     "text": [
      "                                                                                "
     ]
    },
    {
     "name": "stdout",
     "output_type": "stream",
     "text": [
      "Epoch 34/40 | Train Loss: 434.3 | Val Loss: 238.0 | Avg Val Acc: 0.4957 | LR: 2.4e-07\n"
     ]
    },
    {
     "name": "stderr",
     "output_type": "stream",
     "text": [
      "                                                                                "
     ]
    },
    {
     "name": "stdout",
     "output_type": "stream",
     "text": [
      "Epoch 35/40 | Train Loss: 435.6 | Val Loss: 228.2 | Avg Val Acc: 0.4929 | LR: 2.4e-07\n"
     ]
    },
    {
     "name": "stderr",
     "output_type": "stream",
     "text": [
      "                                                                                "
     ]
    },
    {
     "name": "stdout",
     "output_type": "stream",
     "text": [
      "Epoch 36/40 | Train Loss: 436.3 | Val Loss: 240.6 | Avg Val Acc: 0.4962 | LR: 2.4e-07\n"
     ]
    },
    {
     "name": "stderr",
     "output_type": "stream",
     "text": [
      "                                                                                "
     ]
    },
    {
     "name": "stdout",
     "output_type": "stream",
     "text": [
      "Epoch 37/40 | Train Loss: 435.8 | Val Loss: 223.1 | Avg Val Acc: 0.5047 | LR: 1.2e-07\n",
      "  ✓ saved new best (0.5047)\n"
     ]
    },
    {
     "name": "stderr",
     "output_type": "stream",
     "text": [
      "                                                                                "
     ]
    },
    {
     "name": "stdout",
     "output_type": "stream",
     "text": [
      "Epoch 38/40 | Train Loss: 436.1 | Val Loss: 227.3 | Avg Val Acc: 0.4970 | LR: 1.2e-07\n"
     ]
    },
    {
     "name": "stderr",
     "output_type": "stream",
     "text": [
      "                                                                                "
     ]
    },
    {
     "name": "stdout",
     "output_type": "stream",
     "text": [
      "Epoch 39/40 | Train Loss: 437.0 | Val Loss: 240.2 | Avg Val Acc: 0.4975 | LR: 1.2e-07\n"
     ]
    },
    {
     "name": "stderr",
     "output_type": "stream",
     "text": [
      "                                                                                "
     ]
    },
    {
     "name": "stdout",
     "output_type": "stream",
     "text": [
      "Epoch 40/40 | Train Loss: 436.0 | Val Loss: 240.7 | Avg Val Acc: 0.4953 | LR: 6.1e-08\n",
      "Done. Best Avg Val Acc = 0.5047\n"
     ]
    }
   ],
   "source": [
    "# TRAINING cell (class weights, full accuracy, scheduler, checkpoint)\n",
    "from tqdm.auto import tqdm\n",
    "import torch.nn.functional as F\n",
    "\n",
    "# ---------- 1.  class‑imbalance weights  ----------------------------------\n",
    "hist = torch.zeros(6)\n",
    "for _, labels in train_loader:\n",
    "    mask = labels != -1\n",
    "    for c in range(6):\n",
    "        hist[c] += ((labels == c) & mask).sum()\n",
    "\n",
    "weights = 1.0 / (hist + 1e-6)\n",
    "weights = (weights / weights.sum()) * 6\n",
    "weights = weights.to(torch.float32).to(device)\n",
    "\n",
    "criterion = torch.nn.CrossEntropyLoss(ignore_index=-1, weight=weights)\n",
    "\n",
    "# ---------- 2.  full‑set validation accuracy ------------------------------\n",
    "def full_val_accuracy(model, loader, device):\n",
    "    correct = np.zeros(60); total = np.zeros(60)\n",
    "    model.eval()\n",
    "    with torch.no_grad():\n",
    "        for x, y in loader:\n",
    "            x, y = x.to(device), y.to(device)\n",
    "            p    = model(x).argmax(2)\n",
    "            m    = y != -1\n",
    "            correct += ((p == y) & m).sum(0).cpu().numpy()\n",
    "            total   += m.sum(0).cpu().numpy()\n",
    "    accs = [c / t if t > 0 else None for c, t in zip(correct, total)]\n",
    "    return float(np.nanmean(accs)), accs\n",
    "\n",
    "# ---------- 3.  optimiser, scheduler, loop --------------------------------\n",
    "optimizer = optim.Adam(model.parameters(), lr=5e-4, weight_decay=1e-4)\n",
    "scheduler = optim.lr_scheduler.ReduceLROnPlateau(\n",
    "    optimizer, mode=\"min\", factor=0.5, patience=2)\n",
    "\n",
    "best_acc = 0.0\n",
    "num_epochs = 40\n",
    "for epoch in range(1, num_epochs + 1):\n",
    "    # TRAIN\n",
    "    model.train()\n",
    "    epoch_loss = 0.0\n",
    "    for x, y in tqdm(train_loader, desc=f\"Epoch {epoch}\", leave=False):\n",
    "        x, y = x.to(device), y.to(device)\n",
    "        optimizer.zero_grad()\n",
    "        logits = model(x)\n",
    "        loss   = criterion(logits.view(-1, 6), y.view(-1))\n",
    "        loss.backward()\n",
    "        torch.nn.utils.clip_grad_norm_(model.parameters(), 5.0)\n",
    "        optimizer.step()\n",
    "        epoch_loss += loss.item()\n",
    "\n",
    "    # VALIDATE\n",
    "    val_loss = 0.0\n",
    "    model.eval()\n",
    "    with torch.no_grad():\n",
    "        for x, y in val_loader:\n",
    "            x, y = x.to(device), y.to(device)\n",
    "            val_loss += criterion(\n",
    "                model(x).view(-1, 6), y.view(-1)\n",
    "            ).item()\n",
    "\n",
    "    scheduler.step(val_loss)\n",
    "    avg_acc, _ = full_val_accuracy(model, val_loader, device)\n",
    "    print(f\"Epoch {epoch:02}/{num_epochs} | \"\n",
    "          f\"Train Loss: {epoch_loss:.1f} | Val Loss: {val_loss:.1f} | \"\n",
    "          f\"Avg Val Acc: {avg_acc:.4f} | \"\n",
    "          f\"LR: {optimizer.param_groups[0]['lr']:.1e}\")\n",
    "\n",
    "    if avg_acc > best_acc:\n",
    "        best_acc = avg_acc\n",
    "        torch.save(model.state_dict(), \"best_model.pt\")\n",
    "        print(f\"  ✓ saved new best ({best_acc:.4f})\")\n",
    "\n",
    "print(f\"Done. Best Avg Val Acc = {best_acc:.4f}\")\n"
   ]
  },
  {
   "cell_type": "code",
   "execution_count": null,
   "id": "5a5b78c9-95b9-483f-9ff3-437e44299171",
   "metadata": {},
   "outputs": [],
   "source": [
    "# OLD Training\n",
    "import torch\n",
    "from torch.utils.data import DataLoader\n",
    "import torch.optim as optim\n",
    "from rdkit import RDLogger\n",
    "\n",
    "# Hide all RDKit warnings (keep “error” if you still want fatal messages)\n",
    "RDLogger.DisableLog(\"rdApp.*\")     # most common choice\n",
    "# RDLogger.DisableLog(\"rdApp.*\")         # silence everything\n",
    "\n",
    "def accuracy_by_cell_line(logits, labels):\n",
    "    \"\"\"\n",
    "    logits: (batch, 60, 6)\n",
    "    labels: (batch, 60)\n",
    "    \"\"\"\n",
    "    preds = logits.argmax(dim=2)          # (batch, 60)\n",
    "    correct = ((preds == labels) & (labels != -1))\n",
    "    total   = (labels != -1)\n",
    "\n",
    "    correct_by_line = correct.sum(dim=0).cpu().numpy()   # length 60\n",
    "    total_by_line   = total.sum(dim=0).cpu().numpy()\n",
    "\n",
    "    accuracies = [\n",
    "        (c / t) if t > 0 else None\n",
    "        for c, t in zip(correct_by_line, total_by_line)\n",
    "    ]\n",
    "    return accuracies\n",
    "\n",
    "\n",
    "\n",
    "# Load datasets\n",
    "train_dataset = JSONLPotencyDataset(\"train.jsonl.gz\")\n",
    "val_dataset   = JSONLPotencyDataset(\"val.jsonl.gz\")\n",
    "\n",
    "\n",
    "train_loader = DataLoader(train_dataset, batch_size=64, shuffle=True)\n",
    "val_loader = DataLoader(val_dataset, batch_size=64)\n",
    "\n",
    "# Initialize model, loss, optimizer\n",
    "model = MultiLineMLP()\n",
    "criterion = nn.CrossEntropyLoss(ignore_index=-1)\n",
    "optimizer = optim.Adam(model.parameters(), lr=1e-3)\n",
    "\n",
    "# Use GPU if available\n",
    "device = torch.device(\"cuda\" if torch.cuda.is_available() else \"cpu\")\n",
    "model.to(device)\n",
    "\n",
    "optimizer = optim.Adam(model.parameters(),\n",
    "                       lr=5e-4,                # ↓ from 1e‑3\n",
    "                       weight_decay=1e-4)\n",
    "\n",
    "scheduler = optim.lr_scheduler.ReduceLROnPlateau(\n",
    "    optimizer,\n",
    "    mode=\"min\",\n",
    "    factor=0.5,\n",
    "    patience=2,      \n",
    ")\n",
    "\n",
    "\n",
    "criterion = nn.CrossEntropyLoss(ignore_index=-1)\n",
    "\n",
    "num_epochs = 10\n",
    "for epoch in range(num_epochs):\n",
    "    # -------------------- TRAIN --------------------\n",
    "    model.train()\n",
    "    running_loss = 0.0\n",
    "\n",
    "    for inputs, labels in train_loader:\n",
    "        inputs, labels = inputs.to(device), labels.to(device)\n",
    "\n",
    "        optimizer.zero_grad()\n",
    "\n",
    "        logits = model(inputs)                   # (B, 60, 6)\n",
    "        loss = criterion(\n",
    "            logits.view(-1, 6),                  # (B*60, 6)\n",
    "            labels.view(-1)                      # (B*60,)\n",
    "        )\n",
    "\n",
    "        if torch.isnan(loss):\n",
    "            raise RuntimeError(f\"NaN detected at epoch {epoch}\")\n",
    "\n",
    "        loss.backward()\n",
    "        torch.nn.utils.clip_grad_norm_(model.parameters(), 5.0)\n",
    "        optimizer.step()\n",
    "\n",
    "        running_loss += loss.item()\n",
    "\n",
    "    # ------------------ VALIDATION -----------------\n",
    "    model.eval()\n",
    "    val_loss = 0.0\n",
    "    with torch.no_grad():\n",
    "        for inputs, labels in val_loader:\n",
    "            inputs, labels = inputs.to(device), labels.to(device)\n",
    "            logits = model(inputs)\n",
    "            val_loss += criterion(\n",
    "                logits.view(-1, 6),\n",
    "                labels.view(-1)\n",
    "            ).item()\n",
    "\n",
    "    scheduler.step(val_loss)\n",
    "\n",
    "    # accuracy over the **last batch** (quick view)\n",
    "    val_accs = accuracy_by_cell_line(logits, labels)\n",
    "    avg_val_acc = (\n",
    "        sum(a for a in val_accs if a is not None) /\n",
    "        len([a for a in val_accs if a is not None])\n",
    "    )\n",
    "\n",
    "    print(f\"Epoch {epoch+1}/{num_epochs} | \"\n",
    "          f\"Train Loss: {running_loss:.4f} | \"\n",
    "          f\"Val Loss: {val_loss:.4f} | \"\n",
    "          f\"Avg Val Acc: {avg_val_acc:.4f} | \"\n",
    "          f\"LR: {optimizer.param_groups[0]['lr']:.2e}\")\n"
   ]
  },
  {
   "cell_type": "code",
   "execution_count": 19,
   "id": "e59f8793-ff97-4365-b086-2e984477cbf0",
   "metadata": {},
   "outputs": [
    {
     "name": "stdout",
     "output_type": "stream",
     "text": [
      "File: train/787283.json\n",
      "Keys: dict_keys(['NSC', 'SMILES', 'mol_concentration', 'cancer_type', 'potency', 'label'])\n",
      "SMILES: CCC1=Nc2cc(\\C=C\\C(=O)NO)ccc2C(=O)N1CCc3ccc(OC)cc3\n",
      "Label: 2\n",
      "Label type: <class 'int'>\n"
     ]
    }
   ],
   "source": [
    "import os, json\n",
    "\n",
    "sample_path = os.path.join(\"train\", os.listdir(\"train\")[0])\n",
    "with open(sample_path) as f:\n",
    "    rec = json.load(f)\n",
    "\n",
    "print(\"File:\", sample_path)\n",
    "print(\"Keys:\", rec.keys())\n",
    "print(\"SMILES:\", rec.get(\"SMILES\"))\n",
    "print(\"Label:\", rec.get(\"label\"))\n",
    "print(\"Label type:\", type(rec.get(\"label\")))\n",
    "if isinstance(rec[\"label\"], list):\n",
    "    print(\"Label length:\", len(rec[\"label\"]))\n"
   ]
  },
  {
   "cell_type": "code",
   "execution_count": null,
   "id": "98930372-04ad-4878-a774-f99d0a5c8a46",
   "metadata": {},
   "outputs": [],
   "source": []
  }
 ],
 "metadata": {
  "kernelspec": {
   "display_name": "Python 3 (ipykernel)",
   "language": "python",
   "name": "python3"
  },
  "language_info": {
   "codemirror_mode": {
    "name": "ipython",
    "version": 3
   },
   "file_extension": ".py",
   "mimetype": "text/x-python",
   "name": "python",
   "nbconvert_exporter": "python",
   "pygments_lexer": "ipython3",
   "version": "3.9.18"
  }
 },
 "nbformat": 4,
 "nbformat_minor": 5
}
