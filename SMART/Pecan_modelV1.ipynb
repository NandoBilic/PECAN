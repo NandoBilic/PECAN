{
 "cells": [
  {
   "cell_type": "code",
   "execution_count": 1,
   "id": "0429f8cd-7ede-4fa9-b8fe-328127895c9e",
   "metadata": {},
   "outputs": [],
   "source": [
    "#Trained with old fingerprint generator\n",
    "\n",
    "from rdkit import Chem\n",
    "from rdkit.Chem import AllChem\n",
    "GEN0 = AllChem.GetMorganGenerator(radius=0, fpSize=2048)\n",
    "GEN1 = AllChem.GetMorganGenerator(radius=1, fpSize=2048)\n",
    "GEN2 = AllChem.GetMorganGenerator(radius=2, fpSize=2048)\n",
    "\n",
    "def fp6144_from_smiles(smiles):\n",
    "    mol = Chem.MolFromSmiles(smiles)\n",
    "    if mol is None:\n",
    "        return None\n",
    "    fp0 = torch.tensor(list(GEN0.GetFingerprint(mol)), dtype=torch.float32)\n",
    "    fp1 = torch.tensor(list(GEN1.GetFingerprint(mol)), dtype=torch.float32)\n",
    "    fp2 = torch.tensor(list(GEN2.GetFingerprint(mol)), dtype=torch.float32)\n",
    "    return torch.cat([fp0, fp1, fp2]) "
   ]
  },
  {
   "cell_type": "code",
   "execution_count": 2,
   "id": "726b7fdb-b81a-4439-bcce-7ba380720e31",
   "metadata": {},
   "outputs": [],
   "source": [
    "# Returns a 60 element array with predicted activity for each cell line.\n",
    "\n",
    "def predict_activity(smiles: str, model, device='cpu'):\n",
    "    fp = fp6144_from_smiles(smiles)\n",
    "    if fp is None:\n",
    "        raise ValueError(\"Invalid SMILES string\")\n",
    "    fp = fp.unsqueeze(0).to(device)          \n",
    "    with torch.no_grad():\n",
    "        logits = model(fp)                   \n",
    "    preds = logits.argmax(2).cpu().numpy()[0]\n",
    "    return preds        \n"
   ]
  },
  {
   "cell_type": "code",
   "execution_count": 3,
   "id": "15369af2-dd30-4cc6-9832-ee3e8d4ad852",
   "metadata": {},
   "outputs": [
    {
     "name": "stderr",
     "output_type": "stream",
     "text": [
      "/home/nbilic/miniconda3/envs/Nandos/lib/python3.9/site-packages/tqdm/auto.py:21: TqdmWarning: IProgress not found. Please update jupyter and ipywidgets. See https://ipywidgets.readthedocs.io/en/stable/user_install.html\n",
      "  from .autonotebook import tqdm as notebook_tqdm\n"
     ]
    }
   ],
   "source": [
    "import gzip, json, torch\n",
    "import torch.nn as nn\n",
    "from torch.utils.data import Dataset, DataLoader\n",
    "import torch.optim as optim\n",
    "from tqdm.auto import tqdm\n",
    "import numpy as np\n",
    "\n",
    "class MultiLineMLP5(nn.Module):\n",
    "    def __init__(self,\n",
    "                 input_dim=6144,\n",
    "                 hidden_dims=[1024, 1024, 512, 512, 256],\n",
    "                 num_lines=60,\n",
    "                 num_classes=6,\n",
    "                 p_drop=0.3):\n",
    "        super().__init__()\n",
    "        self.bn_in = nn.BatchNorm1d(input_dim)\n",
    "        layers = []\n",
    "        dims = [input_dim] + hidden_dims\n",
    "        for d_in, d_out in zip(dims[:-1], dims[1:]):\n",
    "            layers += [\n",
    "                nn.Linear(d_in, d_out),\n",
    "                nn.BatchNorm1d(d_out),\n",
    "                nn.ReLU(),\n",
    "                nn.Dropout(p_drop),\n",
    "            ]\n",
    "        self.shared = nn.Sequential(*layers)\n",
    "        self.classifier = nn.Linear(hidden_dims[-1], num_lines * num_classes)\n",
    "\n",
    "    def forward(self, x):\n",
    "            x = self.bn_in(x)\n",
    "            x = self.shared(x)\n",
    "            logits = self.classifier(x)\n",
    "            return logits.view(-1, 60, 6)\n",
    "\n",
    "\n"
   ]
  },
  {
   "cell_type": "code",
   "execution_count": 4,
   "id": "781efa7a-a8f1-40e3-996c-f65c10c17c23",
   "metadata": {},
   "outputs": [
    {
     "data": {
      "text/plain": [
       "MultiLineMLP5(\n",
       "  (bn_in): BatchNorm1d(6144, eps=1e-05, momentum=0.1, affine=True, track_running_stats=True)\n",
       "  (shared): Sequential(\n",
       "    (0): Linear(in_features=6144, out_features=1024, bias=True)\n",
       "    (1): BatchNorm1d(1024, eps=1e-05, momentum=0.1, affine=True, track_running_stats=True)\n",
       "    (2): ReLU()\n",
       "    (3): Dropout(p=0.3, inplace=False)\n",
       "    (4): Linear(in_features=1024, out_features=1024, bias=True)\n",
       "    (5): BatchNorm1d(1024, eps=1e-05, momentum=0.1, affine=True, track_running_stats=True)\n",
       "    (6): ReLU()\n",
       "    (7): Dropout(p=0.3, inplace=False)\n",
       "    (8): Linear(in_features=1024, out_features=512, bias=True)\n",
       "    (9): BatchNorm1d(512, eps=1e-05, momentum=0.1, affine=True, track_running_stats=True)\n",
       "    (10): ReLU()\n",
       "    (11): Dropout(p=0.3, inplace=False)\n",
       "    (12): Linear(in_features=512, out_features=512, bias=True)\n",
       "    (13): BatchNorm1d(512, eps=1e-05, momentum=0.1, affine=True, track_running_stats=True)\n",
       "    (14): ReLU()\n",
       "    (15): Dropout(p=0.3, inplace=False)\n",
       "    (16): Linear(in_features=512, out_features=256, bias=True)\n",
       "    (17): BatchNorm1d(256, eps=1e-05, momentum=0.1, affine=True, track_running_stats=True)\n",
       "    (18): ReLU()\n",
       "    (19): Dropout(p=0.3, inplace=False)\n",
       "  )\n",
       "  (classifier): Linear(in_features=256, out_features=360, bias=True)\n",
       ")"
      ]
     },
     "execution_count": 4,
     "metadata": {},
     "output_type": "execute_result"
    }
   ],
   "source": [
    "device = torch.device('cuda' if torch.cuda.is_available() else 'cpu')\n",
    "model = MultiLineMLP5().to(device)\n",
    "ckpt   = torch.load(\"best_resampled.pt\", map_location=device)\n",
    "state  = ckpt[\"model_state_dict\"]        \n",
    "model  = MultiLineMLP5().to(device)\n",
    "model.load_state_dict(state)         \n",
    "model.eval()"
   ]
  },
  {
   "cell_type": "code",
   "execution_count": 66,
   "id": "76435195-e136-4e96-8d3b-8104d61473e7",
   "metadata": {},
   "outputs": [
    {
     "name": "stdout",
     "output_type": "stream",
     "text": [
      "[5 5 5 5 4 5 5 5 5 4 5 5 4 5 5 4 5 5 5 5 5 5 5 4 5 4 5 5 5 4 5 4 5 5 4 5 4\n",
      " 4 5 5 5 5 5 5 5 4 4 5 4 5 5 5 5 5 5 4 5 4 5 4]\n"
     ]
    }
   ],
   "source": [
    "example = \"COc1cc2O[C@]3([C@@H]([C@@H](CN(C)C)[C@@H](O)[C@@]3(O)c2c(OC)n1)c4ccccc4)c5ccc(cc5)C#N\"\n",
    "preds = predict_activity(example, model, device)\n",
    "print(preds)\n"
   ]
  },
  {
   "cell_type": "code",
   "execution_count": 65,
   "id": "5223530e-4930-4e43-9060-d3da46dcd30c",
   "metadata": {},
   "outputs": [
    {
     "name": "stdout",
     "output_type": "stream",
     "text": [
      "SMILES: COc1cc2O[C@]3([C@@H]([C@@H](CN(C)C)[C@@H](O)[C@@]3(O)c2c(OC)n1)c4ccccc4)c5ccc(cc5)C#N\n",
      "Labels: [4, 4, 5, 4, 4, 4, 5, 4, 4, 4, 5, 5, 4, 5, 4, 4, 4, 5, 5, 5, 5, 5, 4, 4, 5, 4, 4, 4, 5, 4, 4, 4, 5, 4, 4, 4, 4, 4, 4, 4, 5, 4, 4, 4, 4, 4, 4, 4, 4, 4, 4, 4, 4, 5, 5, 4, 4, 4, 4, 4]\n"
     ]
    }
   ],
   "source": [
    "import gzip, json\n",
    "\n",
    "with gzip.open(\"train.jsonl.gz\", \"rt\") as f:\n",
    "    for i, line in enumerate(f):\n",
    "        if i == 987: \n",
    "            entry = json.loads(line)\n",
    "            break\n",
    "\n",
    "print(\"SMILES:\", entry[\"smiles\"])\n",
    "print(\"Labels:\", entry[\"label_vector\"])\n"
   ]
  },
  {
   "cell_type": "code",
   "execution_count": 40,
   "id": "9ea485e4-a89e-447d-ac72-2978d4012083",
   "metadata": {},
   "outputs": [
    {
     "name": "stdout",
     "output_type": "stream",
     "text": [
      "✅ Best SMILES found with accuracy: 98.31%\n",
      "Index: 1\n",
      "Molecule Name / NSC: UNKNOWN\n",
      "SMILES: CCCCCCNC(=O)Oc1ccc(cc1)\\C(=C(/C)\\c2ccc(Cl)cc2)\\c3ccc(OCCN(C)C)cc3\n"
     ]
    },
    {
     "name": "stderr",
     "output_type": "stream",
     "text": [
      "[19:26:58] Explicit valence for atom # 4 Cl, 2, is greater than permitted\n"
     ]
    }
   ],
   "source": [
    "import gzip, json\n",
    "import numpy as np\n",
    "\n",
    "best_smiles = None\n",
    "best_accuracy = -1\n",
    "best_true = None\n",
    "best_pred = None\n",
    "best_name = None\n",
    "best_index = -1  # <--- track line number\n",
    "\n",
    "with gzip.open(\"train.jsonl.gz\", \"rt\") as f:\n",
    "    for i, line in enumerate(f):\n",
    "        if i >= 50: break\n",
    "        record = json.loads(line)\n",
    "        smiles = record['smiles']\n",
    "        name = record.get('NSC') or record.get('nsc') or \"UNKNOWN\"\n",
    "        true = np.array(record['label_vector'])\n",
    "\n",
    "        # Skip examples where first label is 0 or missing\n",
    "        if true[0] in (-1, 0):\n",
    "            continue\n",
    "\n",
    "        try:\n",
    "            pred = predict_activity(smiles, model, device)\n",
    "        except ValueError:\n",
    "            continue\n",
    "\n",
    "        mask = true != -1\n",
    "        acc = np.mean(pred[mask] == true[mask])\n",
    "        \n",
    "        if acc > best_accuracy:\n",
    "            best_accuracy = acc\n",
    "            best_smiles = smiles\n",
    "            best_name = name\n",
    "            best_true = true\n",
    "            best_pred = pred\n",
    "            best_index = i  # <--- record the line number\n",
    "\n",
    "print(\"✅ Best SMILES found with accuracy:\", f\"{best_accuracy:.2%}\")\n",
    "print(\"Index:\", best_index)\n",
    "print(\"Molecule Name / NSC:\", best_name)\n",
    "print(\"SMILES:\", best_smiles)\n",
    "\n",
    "\n",
    "\n",
    "\n",
    "\n",
    "\n"
   ]
  },
  {
   "cell_type": "code",
   "execution_count": null,
   "id": "8e89db90-d668-4705-95be-1521734fed45",
   "metadata": {},
   "outputs": [],
   "source": []
  }
 ],
 "metadata": {
  "kernelspec": {
   "display_name": "Python 3 (ipykernel)",
   "language": "python",
   "name": "python3"
  },
  "language_info": {
   "codemirror_mode": {
    "name": "ipython",
    "version": 3
   },
   "file_extension": ".py",
   "mimetype": "text/x-python",
   "name": "python",
   "nbconvert_exporter": "python",
   "pygments_lexer": "ipython3",
   "version": "3.9.18"
  }
 },
 "nbformat": 4,
 "nbformat_minor": 5
}
