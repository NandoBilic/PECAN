{
 "cells": [
  {
   "cell_type": "code",
   "execution_count": 12,
   "id": "9cc0c2db-7c02-400a-ac22-9c1c1ccfff5e",
   "metadata": {},
   "outputs": [
    {
     "name": "stdout",
     "output_type": "stream",
     "text": [
      "1.26.4\n"
     ]
    }
   ],
   "source": [
    "import numpy as np\n",
    "print(np.__version__)\n"
   ]
  },
  {
   "cell_type": "code",
   "execution_count": 13,
   "id": "9d2ed3cc-5df7-4f74-966c-43e2eeb0a7c1",
   "metadata": {},
   "outputs": [
    {
     "name": "stdout",
     "output_type": "stream",
     "text": [
      "/home/nbilic/miniconda3/envs/Nandos/bin/python\n",
      "3.9.18 | packaged by conda-forge | (main, Dec 23 2023, 16:33:10) \n",
      "[GCC 12.3.0]\n",
      "['/home/nbilic/miniconda3/envs/Nandos/lib/python39.zip', '/home/nbilic/miniconda3/envs/Nandos/lib/python3.9', '/home/nbilic/miniconda3/envs/Nandos/lib/python3.9/lib-dynload', '', '/home/nbilic/miniconda3/envs/Nandos/lib/python3.9/site-packages']\n"
     ]
    }
   ],
   "source": [
    "import sys\n",
    "print(sys.executable)\n",
    "print(sys.version)\n",
    "print(sys.path)\n"
   ]
  },
  {
   "cell_type": "code",
   "execution_count": 14,
   "id": "a1ebb73c-63f7-4f3c-a510-d9424c610e8e",
   "metadata": {},
   "outputs": [],
   "source": [
    "import pandas as pd\n",
    "import numpy as np\n",
    "import os\n",
    "import json\n",
    "from rdkit import Chem\n",
    "from rdkit.Chem import AllChem\n"
   ]
  },
  {
   "cell_type": "code",
   "execution_count": 7,
   "id": "3fc536d6-b964-4c5e-a642-78fbb01ad609",
   "metadata": {},
   "outputs": [],
   "source": [
    "# --- 1. Load and pivot GI50 data ---\n",
    "gi50_raw = pd.read_csv(\"GI50.csv\")  \n",
    "\n",
    "gi50_df = gi50_raw.pivot_table(\n",
    "    index=\"NSC\",\n",
    "    columns=\"CELL_NAME\",\n",
    "    values=\"AVERAGE\",\n",
    "    aggfunc=\"mean\"\n",
    ").reset_index()\n",
    "\n",
    "gi50_df.columns.name = None  # Optional: remove \"CELL_NAME\" header level\n",
    "\n",
    "# --- 2. Load SMILES data ---\n",
    "smiles_df = pd.read_csv(\"nsc_smiles.csv\")  # Should have 'NSC', 'SMILES'\n",
    "\n",
    "# --- 3. Merge on NSC to get full dataset ---\n",
    "merged_df = pd.merge(gi50_df, smiles_df, on=\"NSC\")\n",
    "merged_df[\"SMILES\"] = merged_df[\"SMILES\"].astype(str)\n"
   ]
  },
  {
   "cell_type": "code",
   "execution_count": 91,
   "id": "7a15c6ad-28f8-4933-aa0a-87d381967ad6",
   "metadata": {},
   "outputs": [],
   "source": [
    "from collections import Counter\n",
    "import pandas as pd\n",
    "from rdkit import Chem\n",
    "from rdkit.Chem import AllChem\n",
    "\n",
    "def categorize_gi50(val):\n",
    "    if pd.isna(val):\n",
    "        return None\n",
    "    p = -val                        # convert −log10 → +log10\n",
    "    if p < 4.1:   return 0\n",
    "    elif p < 5.0: return 1\n",
    "    elif p < 6.0: return 2\n",
    "    elif p < 7.0: return 3\n",
    "    elif p < 8.0: return 4\n",
    "    else:         return 5\n",
    "\n",
    "# Build dictionary: NSC → {SMILES, concentrations, potencies, label}\n",
    "mol_dict = {}\n",
    "\n",
    "gi50_columns = [c for c in merged_df.columns if c not in (\"NSC\", \"SMILES\")]\n",
    "\n",
    "for _, row in merged_df.iterrows():\n",
    "    NSC   = row[\"NSC\"]\n",
    "    SMILES = row[\"SMILES\"]\n",
    "\n",
    "    # per-cell-line numbers and categories\n",
    "    concentrations = {col: row[col]               for col in gi50_columns}\n",
    "    potencies      = {col: categorize_gi50(row[col]) for col in gi50_columns}\n",
    "\n",
    "    # majority label, ignoring missing values\n",
    "    cats = [v for v in potencies.values() if v is not None]\n",
    "    if not cats:                       # skip compounds with no data\n",
    "        continue\n",
    "    majority_label = Counter(cats).most_common(1)[0][0]\n",
    "\n",
    "    mol_dict[NSC] = {\n",
    "        \"NSC\": NSC,\n",
    "        \"SMILES\": SMILES,\n",
    "        \"mol_concentration\": concentrations,\n",
    "        \"cancer_type\": gi50_columns,\n",
    "        \"potency\": potencies,\n",
    "        \"label\": [potencies[cl] if potencies[cl] is not None else -1 for cl in gi50_columns],\n",
    "\n",
    "    }\n"
   ]
  },
  {
   "cell_type": "code",
   "execution_count": 92,
   "id": "c9a8dfaa-b6fb-4138-8985-bf1aad72c8d3",
   "metadata": {},
   "outputs": [],
   "source": [
    "import numpy as np\n",
    "import os\n",
    "import json\n",
    "\n",
    "np.random.seed(42)\n",
    "NSC_list = list(mol_dict.keys())\n",
    "np.random.shuffle(NSC_list)\n",
    "\n",
    "n = len(NSC_list)\n",
    "n_train = int(0.8 * n)\n",
    "n_val = int(0.1 * n)\n",
    "\n",
    "splits = {\n",
    "    \"train\": NSC_list[:n_train],\n",
    "    \"val\": NSC_list[n_train:n_train + n_val],\n",
    "    \"test\": NSC_list[n_train + n_val:]\n",
    "}\n"
   ]
  },
  {
   "cell_type": "code",
   "execution_count": 8,
   "id": "a7a97197-465e-48f6-88dc-e03e89c29c50",
   "metadata": {},
   "outputs": [],
   "source": [
    "import shutil\n",
    "\n",
    "# Clear old folders\n",
    "for folder in [\"train\", \"val\", \"test\"]:\n",
    "    if os.path.exists(folder):\n",
    "        shutil.rmtree(folder)  # Delete the folder and all contents\n",
    "    os.makedirs(folder)  # Recreate empty folder\n"
   ]
  },
  {
   "cell_type": "code",
   "execution_count": 94,
   "id": "3ab06465-009e-46ee-a430-4975bfbad1bc",
   "metadata": {},
   "outputs": [
    {
     "ename": "OSError",
     "evalue": "[Errno 122] Disk quota exceeded",
     "output_type": "error",
     "traceback": [
      "\u001b[0;31m---------------------------------------------------------------------------\u001b[0m",
      "\u001b[0;31mOSError\u001b[0m                                   Traceback (most recent call last)",
      "Cell \u001b[0;32mIn[94], line 11\u001b[0m\n\u001b[1;32m      9\u001b[0m filename \u001b[38;5;241m=\u001b[39m os\u001b[38;5;241m.\u001b[39mpath\u001b[38;5;241m.\u001b[39mjoin(split_name, \u001b[38;5;124mf\u001b[39m\u001b[38;5;124m\"\u001b[39m\u001b[38;5;132;01m{\u001b[39;00mNSC\u001b[38;5;132;01m}\u001b[39;00m\u001b[38;5;124m.json\u001b[39m\u001b[38;5;124m\"\u001b[39m)\n\u001b[1;32m     10\u001b[0m \u001b[38;5;28;01mwith\u001b[39;00m \u001b[38;5;28mopen\u001b[39m(filename, \u001b[38;5;124m\"\u001b[39m\u001b[38;5;124mw\u001b[39m\u001b[38;5;124m\"\u001b[39m) \u001b[38;5;28;01mas\u001b[39;00m f:\n\u001b[0;32m---> 11\u001b[0m     json\u001b[38;5;241m.\u001b[39mdump({\n\u001b[1;32m     12\u001b[0m         \u001b[38;5;124m\"\u001b[39m\u001b[38;5;124mNSC\u001b[39m\u001b[38;5;124m\"\u001b[39m: record[\u001b[38;5;124m\"\u001b[39m\u001b[38;5;124mNSC\u001b[39m\u001b[38;5;124m\"\u001b[39m],\n\u001b[1;32m     13\u001b[0m         \u001b[38;5;124m\"\u001b[39m\u001b[38;5;124mSMILES\u001b[39m\u001b[38;5;124m\"\u001b[39m: record[\u001b[38;5;124m\"\u001b[39m\u001b[38;5;124mSMILES\u001b[39m\u001b[38;5;124m\"\u001b[39m],\n\u001b[1;32m     14\u001b[0m         \u001b[38;5;124m\"\u001b[39m\u001b[38;5;124mlabel\u001b[39m\u001b[38;5;124m\"\u001b[39m: record[\u001b[38;5;124m\"\u001b[39m\u001b[38;5;124mlabel\u001b[39m\u001b[38;5;124m\"\u001b[39m]\n\u001b[1;32m     15\u001b[0m     }, f)\n",
      "\u001b[0;31mOSError\u001b[0m: [Errno 122] Disk quota exceeded"
     ]
    }
   ],
   "source": [
    "# Ensure folders exist\n",
    "for folder in [\"train\", \"val\", \"test\"]:\n",
    "    os.makedirs(folder, exist_ok=True)\n",
    "\n",
    "# Save each molecule as its own JSON file\n",
    "for split_name, NSCs in splits.items():\n",
    "    for NSC in NSCs:\n",
    "        record = mol_dict[NSC]\n",
    "        filename = os.path.join(split_name, f\"{NSC}.json\")\n",
    "        with open(filename, \"w\") as f:\n",
    "            json.dump({\n",
    "                \"NSC\": record[\"NSC\"],\n",
    "                \"SMILES\": record[\"SMILES\"],\n",
    "                \"label\": record[\"label\"]\n",
    "            }, f)\n"
   ]
  },
  {
   "cell_type": "code",
   "execution_count": null,
   "id": "6754055a-f460-40b8-9489-a1cbbdb71db0",
   "metadata": {},
   "outputs": [],
   "source": [
    "import gzip, json\n",
    "\n",
    "n_preview = 5                 # change to see more / fewer\n",
    "with gzip.open(\"train.jsonl.gz\", \"rt\") as f:\n",
    "    for i, line in enumerate(f):\n",
    "        if i >= n_preview:\n",
    "            break\n",
    "        record = json.loads(line)\n",
    "        print(f\"--- record {i} ---\")\n",
    "        print(json.dumps(record, indent=2))\n",
    "        print()\n",
    "\n"
   ]
  },
  {
   "cell_type": "code",
   "execution_count": null,
   "id": "1fd95e56-d632-4356-ab0f-9c2f6d34344a",
   "metadata": {},
   "outputs": [],
   "source": []
  }
 ],
 "metadata": {
  "kernelspec": {
   "display_name": "Python 3 (ipykernel)",
   "language": "python",
   "name": "python3"
  },
  "language_info": {
   "codemirror_mode": {
    "name": "ipython",
    "version": 3
   },
   "file_extension": ".py",
   "mimetype": "text/x-python",
   "name": "python",
   "nbconvert_exporter": "python",
   "pygments_lexer": "ipython3",
   "version": "3.9.18"
  }
 },
 "nbformat": 4,
 "nbformat_minor": 5
}
